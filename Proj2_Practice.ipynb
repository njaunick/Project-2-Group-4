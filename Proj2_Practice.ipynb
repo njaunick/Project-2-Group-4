{
 "cells": [
  {
   "cell_type": "markdown",
   "id": "d35943cb-051d-46a8-97a3-0727c11a134d",
   "metadata": {},
   "source": [
    "# Load the dataset and examine its structure"
   ]
  },
  {
   "cell_type": "code",
   "execution_count": null,
   "id": "4fcfd4ba-50c4-4fd0-94e3-9b793838c387",
   "metadata": {},
   "outputs": [],
   "source": [
    "import pandas as pd\n",
    "import numpy as np\n",
    "from sklearn.model_selection import train_test_split\n",
    "from sklearn.metrics import balanced_accuracy_score\n",
    "from sklearn.preprocessing import OneHotEncoder, OrdinalEncoder\n",
    "from sklearn.preprocessing import LabelEncoder, StandardScaler\n",
    "import seaborn as sns\n",
    "import matplotlib.pyplot as plt"
   ]
  },
  {
   "cell_type": "code",
   "execution_count": null,
   "id": "1063f981-1ac9-42d8-ace9-6755fea93e7f",
   "metadata": {},
   "outputs": [],
   "source": [
    "df = pd.read_csv(\"C:\\\\Users\\\\LabUser\\\\Downloads\\\\bank-full columns.csv\")\n",
    "df.head()"
   ]
  },
  {
   "cell_type": "code",
   "execution_count": null,
   "id": "95854621-8e4a-40b8-9d72-7f05ba8b4fe2",
   "metadata": {},
   "outputs": [],
   "source": [
    "# Setup X and y variables\n",
    "X = df.drop(columns=['contact', 'y'])\n",
    "y = df['y'].values.reshape(-1,1)\n"
   ]
  },
  {
   "cell_type": "markdown",
   "id": "899da020-7253-4ddb-b5a3-296e4f2c5e23",
   "metadata": {},
   "source": [
    "# Handle missing data"
   ]
  },
  {
   "cell_type": "code",
   "execution_count": null,
   "id": "c47e0f69-9daf-48ac-aaef-a1ad384ce440",
   "metadata": {},
   "outputs": [],
   "source": [
    "# Handling missing values (if any)\n",
    "\n",
    "# For numerical columns\n",
    "df.fillna(df.mean(), inplace=True)  \n",
    "\n",
    "# For categorical columns\n",
    "df.fillna('Unknown', inplace=True) "
   ]
  },
  {
   "cell_type": "code",
   "execution_count": null,
   "id": "7728eee9-7b59-4e66-942b-9e8af2a89bb2",
   "metadata": {},
   "outputs": [],
   "source": [
    "# Identify numerical columns\n",
    "numerical_columns = ['balance', 'day', 'duration', 'campaign', 'pdays', 'previous']\n",
    "\n",
    "# Identify categorical columns\n",
    "categorical_columns = ['job', 'marital', 'education', 'default', 'housing', 'loan', 'contact', 'month', 'poutcome']\n",
    "\n",
    "# Fill numerical columns with mean\n",
    "df[numerical_columns] =df[numerical_columns].fillna(df[numerical_columns].mean())\n",
    "\n",
    "# Fill categorical columns with 'Unknown'\n",
    "df[categorical_columns] =df[categorical_columns].fillna('Unknown')\n"
   ]
  },
  {
   "cell_type": "code",
   "execution_count": null,
   "id": "40d522e3-9ee1-4dc9-bcf1-439ce0a0e8dc",
   "metadata": {},
   "outputs": [],
   "source": [
    "# Apply OneHotEncoder to categorical columns\n",
    "onehot_encoder = OneHotEncoder(sparse_output=False, drop='first')\n",
    "encoded_categorical = onehot_encoder.fit_transform(df[categorical_columns])\n"
   ]
  },
  {
   "cell_type": "code",
   "execution_count": null,
   "id": "39d42853-7461-416c-bb47-2553946cd57a",
   "metadata": {},
   "outputs": [],
   "source": [
    "# Create a DataFrame for the encoded columns\n",
    "encoded_df = pd.DataFrame(encoded_categorical, columns=onehot_encoder.get_feature_names_out(categorical_columns))"
   ]
  },
  {
   "cell_type": "code",
   "execution_count": null,
   "id": "e0fd7201-ebde-41dd-a953-29888d89a720",
   "metadata": {},
   "outputs": [],
   "source": [
    "# Drop original categorical columns and concatenate the encoded columns\n",
    "df = df.drop(columns=categorical_columns)\n",
    "df = pd.concat([df, encoded_df], axis=1)\n",
    "\n",
    "# Update X variable after encoding\n",
    "X = df.drop(columns=['y'])\n",
    "\n",
    "print(df.head())"
   ]
  },
  {
   "cell_type": "code",
   "execution_count": null,
   "id": "4d4ec462-8ebf-4902-8403-9ec6a7d351c4",
   "metadata": {},
   "outputs": [],
   "source": [
    "# Find the percentage of null values in each column\n",
    "null_percentage = df.isna().mean() * 100\n",
    "print(null_percentage)"
   ]
  },
  {
   "cell_type": "code",
   "execution_count": null,
   "id": "b84af081-9285-41a0-8ccc-1262afef58e7",
   "metadata": {},
   "outputs": [],
   "source": [
    "# Explore each column with missing values to determine the best fill strategy\n",
    "# First the job column\n",
    "df['job'].value_counts()"
   ]
  },
  {
   "cell_type": "code",
   "execution_count": null,
   "id": "cafcfc0d-ea95-4d94-8f87-d8c5af803d8d",
   "metadata": {},
   "outputs": [],
   "source": [
    "# Scaling numerical features\n",
    "scaler = StandardScaler()\n",
    "df[numerical_columns] = scaler.fit_transform(df[numerical_columns])\n",
    "\n",
    "print(df.head())"
   ]
  },
  {
   "cell_type": "code",
   "execution_count": null,
   "id": "c927d655-04ae-40f4-97fa-9c5d356163f1",
   "metadata": {},
   "outputs": [],
   "source": [
    "#  Split the data into training and testing sets\n",
    "X_train, X_test, y_train, y_test = train_test_split(X, y, random_state=13)\n",
    "X_train.describe()"
   ]
  },
  {
   "cell_type": "markdown",
   "id": "9a89a33d-4d23-460c-90f5-78b70db3c66b",
   "metadata": {},
   "source": [
    "# Exploratory Data Analysis (EDA)"
   ]
  },
  {
   "cell_type": "code",
   "execution_count": null,
   "id": "cd473b8c-f3b6-4670-8ce3-e66cf72d9e2a",
   "metadata": {},
   "outputs": [],
   "source": [
    "# Create new features if needed\n",
    "# Example: Creating a new feature 'balance_duration_ratio'\n",
    "df['balance_duration_ratio'] = df['balance'] / (df['duration'] + 1)  \n",
    "\n",
    "print(df.head())"
   ]
  },
  {
   "cell_type": "markdown",
   "id": "ee8617c3-3b1b-4cff-8484-a4702cd90687",
   "metadata": {},
   "source": [
    "# Select most relevant features using  correlation analysis "
   ]
  },
  {
   "cell_type": "code",
   "execution_count": null,
   "id": "df1d3e63-3a2d-4615-8337-779bb3a0315b",
   "metadata": {},
   "outputs": [],
   "source": [
    "# Correlation matrix\n",
    "correlation_matrix = df.corr()\n",
    "plt.figure(figsize=(12, 6))\n",
    "sns.heatmap(correlation_matrix, annot=True, cmap='autumn')\n",
    "plt.title('Correlation Matrix')\n",
    "plt.show()"
   ]
  },
  {
   "cell_type": "code",
   "execution_count": null,
   "id": "a8c798da-b58f-400a-8237-e777fcf56b50",
   "metadata": {},
   "outputs": [],
   "source": [
    "# Plot distributions of numerical features\n",
    "numerical_columns = ['balance', 'day', 'duration', 'campaign', 'pdays', 'previous']\n",
    "df[numerical_columns].hist(bins=15, figsize=(15, 10))\n",
    "plt.show()"
   ]
  },
  {
   "cell_type": "code",
   "execution_count": null,
   "id": "a8e302e7-6309-453b-95e8-7f50998d225c",
   "metadata": {},
   "outputs": [],
   "source": [
    "for column in numerical_columns:\n",
    "    plt.figure(figsize=(8, 4))\n",
    "    sns.violinplot(x='y', y=column, data=df, color='purple')\n",
    "    plt.title(f'Violin plot of {column} by target variable')\n",
    "    plt.show()"
   ]
  },
  {
   "cell_type": "markdown",
   "id": "010ef207-ae5f-4201-a9b6-dae3932d3619",
   "metadata": {},
   "source": [
    "# Feature Engineering"
   ]
  },
  {
   "cell_type": "code",
   "execution_count": null,
   "id": "1440bc67-dc55-4d95-a981-7d529bdd9fc8",
   "metadata": {},
   "outputs": [],
   "source": [
    "# Initialize OneHotEncoder\n",
    "onehot_encoder = OneHotEncoder(sparse_output=False, drop='first')\n",
    "encoded_categorical = onehot_encoder.fit_transform(df[categorical_columns])"
   ]
  },
  {
   "cell_type": "code",
   "execution_count": null,
   "id": "2e6af2fa-492b-4bfd-9f97-674b62e7559e",
   "metadata": {},
   "outputs": [],
   "source": [
    "# Drop original categorical columns and concatenate the encoded columns\n",
    "df = df.drop(columns=categorical_columns)\n",
    "encoded_df = pd.DataFrame(encoded_categorical, columns=onehot_encoder.get_feature_names_out(categorical_columns))\n",
    "df = pd.concat([df, encoded_df], axis=1)\n",
    "\n",
    "print(df.head())"
   ]
  },
  {
   "cell_type": "markdown",
   "id": "ac37d76c-ebef-4708-9662-b64aa4b2e90d",
   "metadata": {},
   "source": [
    "# Model Selection and Training"
   ]
  },
  {
   "cell_type": "markdown",
   "id": "8bdb4a98-dae6-4396-9030-9460044996ae",
   "metadata": {},
   "source": [
    "# Choose Algorithms"
   ]
  },
  {
   "cell_type": "code",
   "execution_count": null,
   "id": "639dfa3d-fa3d-48f5-abf1-30220c8eeb33",
   "metadata": {},
   "outputs": [],
   "source": [
    "from sklearn.linear_model import LogisticRegression\n",
    "from sklearn.tree import DecisionTreeClassifier\n",
    "from sklearn.ensemble import RandomForestClassifier\n",
    "from sklearn.svm import SVC\n",
    "from sklearn.neighbors import KNeighborsClassifier\n",
    "from sklearn.metrics import accuracy_score, precision_score, recall_score, f1_score"
   ]
  },
  {
   "cell_type": "code",
   "execution_count": null,
   "id": "f8d52d9e-5177-47e6-a152-7e82f7636c55",
   "metadata": {},
   "outputs": [],
   "source": [
    "# Initialize models\n",
    "log_reg = LogisticRegression()\n",
    "decision_tree = DecisionTreeClassifier()\n",
    "random_forest = RandomForestClassifier()\n",
    "svm = SVC()\n",
    "knn = KNeighborsClassifier()"
   ]
  },
  {
   "cell_type": "markdown",
   "id": "181e32e7-e64e-4e55-a1c7-1430ab7863c5",
   "metadata": {},
   "source": [
    "# Train and Evaluate Models"
   ]
  },
  {
   "cell_type": "code",
   "execution_count": null,
   "id": "d2677e1a-a0dc-4d61-822b-ded96fdd08d9",
   "metadata": {},
   "outputs": [],
   "source": [
    "# Train models\n",
    "log_reg.fit(X_train, y_train.ravel())\n",
    "decision_tree.fit(X_train, y_train.ravel())\n",
    "random_forest.fit(X_train, y_train.ravel())\n",
    "svm.fit(X_train, y_train.ravel())\n",
    "knn.fit(X_train, y_train.ravel())"
   ]
  },
  {
   "cell_type": "code",
   "execution_count": null,
   "id": "12016205-9dfa-4f3b-b742-30d00a792d91",
   "metadata": {},
   "outputs": [],
   "source": [
    "# Predict on test set\n",
    "y_pred_log_reg = log_reg.predict(X_test)\n",
    "y_pred_decision_tree = decision_tree.predict(X_test)\n",
    "y_pred_random_forest = random_forest.predict(X_test)\n",
    "y_pred_svm = svm.predict(X_test)\n",
    "y_pred_knn = knn.predict(X_test)"
   ]
  },
  {
   "cell_type": "code",
   "execution_count": null,
   "id": "14896573-546d-496d-9c26-652bb28dde70",
   "metadata": {},
   "outputs": [],
   "source": [
    "# Evaluate models\n",
    "models = ['Logistic Regression', 'Decision Tree', 'Random Forest', 'SVM', 'KNN']\n",
    "predictions = [y_pred_log_reg, y_pred_decision_tree, y_pred_random_forest, y_pred_svm, y_pred_knn]\n",
    "\n",
    "for model, y_pred in zip(models, predictions):\n",
    "    print(f\"Model: {model}\")\n",
    "    print(f\"Accuracy: {accuracy_score(y_test, y_pred):.4f}\")\n",
    "    print(f\"Precision: {precision_score(y_test, y_pred, average='binary'):.4f}\")\n",
    "    print(f\"Recall: {recall_score(y_test, y_pred, average='binary'):.4f}\")\n",
    "    print(f\"F1 Score: {f1_score(y_test, y_pred, average='binary'):.4f}\")\n",
    "    print(\"\\n\")"
   ]
  },
  {
   "cell_type": "markdown",
   "id": "d76b7e9b-8550-472d-a374-06440d9ca495",
   "metadata": {},
   "source": [
    "# Hyperparameter Tuning"
   ]
  },
  {
   "cell_type": "code",
   "execution_count": null,
   "id": "63c2731d-5eec-4671-99f9-2809cd78dd9a",
   "metadata": {},
   "outputs": [],
   "source": [
    "from sklearn.model_selection import GridSearchCV"
   ]
  },
  {
   "cell_type": "code",
   "execution_count": null,
   "id": "97f7a681-04a6-4a99-8a2e-5c1683aea08c",
   "metadata": {},
   "outputs": [],
   "source": [
    "# Define parameter grids\n",
    "param_grid_log_reg = {'C': [0.1, 1, 10, 100]}\n",
    "param_grid_decision_tree = {'max_depth': [None, 10, 20, 30], 'min_samples_split': [2, 5, 10]}\n",
    "param_grid_random_forest = {'n_estimators': [50, 100, 200], 'max_depth': [None, 10, 20, 30]}\n",
    "param_grid_svm = {'C': [0.1, 1, 10, 100], 'kernel': ['linear', 'rbf']}\n",
    "param_grid_knn = {'n_neighbors': [3, 5, 7, 9]}"
   ]
  },
  {
   "cell_type": "code",
   "execution_count": null,
   "id": "925fc4d2-0a10-41f2-98d8-1c70788aa584",
   "metadata": {},
   "outputs": [],
   "source": [
    "# Initialize GridSearchCV\n",
    "grid_log_reg = GridSearchCV(log_reg, param_grid_log_reg, cv=5, scoring='accuracy')\n",
    "grid_decision_tree = GridSearchCV(decision_tree, param_grid_decision_tree, cv=5, scoring='accuracy')\n",
    "grid_random_forest = GridSearchCV(random_forest, param_grid_random_forest, cv=5, scoring='accuracy')\n",
    "grid_svm = GridSearchCV(svm, param_grid_svm, cv=5, scoring='accuracy')\n",
    "grid_knn = GridSearchCV(knn, param_grid_knn, cv=5, scoring='accuracy')"
   ]
  },
  {
   "cell_type": "code",
   "execution_count": null,
   "id": "59f8e345-c06c-4422-acc4-c16b542d732a",
   "metadata": {},
   "outputs": [],
   "source": [
    "# Fit models\n",
    "grid_log_reg.fit(X_train, y_train.ravel())\n",
    "grid_decision_tree.fit(X_train, y_train.ravel())\n",
    "grid_random_forest.fit(X_train, y_train.ravel())\n",
    "grid_svm.fit(X_train, y_train.ravel())\n",
    "grid_knn.fit(X_train, y_train.ravel())"
   ]
  },
  {
   "cell_type": "code",
   "execution_count": null,
   "id": "95152115-0b49-4c5c-897e-ce4439e07ac8",
   "metadata": {},
   "outputs": [],
   "source": [
    "# Best parameters\n",
    "print(\"Best parameters for Logistic Regression:\", grid_log_reg.best_params_)\n",
    "print(\"Best parameters for Decision Tree:\", grid_decision_tree.best_params_)\n",
    "print(\"Best parameters for Random Forest:\", grid_random_forest.best_params_)\n",
    "print(\"Best parameters for SVM:\", grid_svm.best_params_)\n",
    "print(\"Best parameters for KNN:\", grid_knn.best_params_)"
   ]
  },
  {
   "cell_type": "markdown",
   "id": "26ecf5b7-4d76-40e7-b247-2e54bc7980fd",
   "metadata": {},
   "source": [
    "# Cross-Validation"
   ]
  },
  {
   "cell_type": "code",
   "execution_count": null,
   "id": "18c92db7-9cb6-425b-bfbc-b2d4e03f230c",
   "metadata": {},
   "outputs": [],
   "source": [
    "from sklearn.model_selection import cross_val_score\n",
    "\n",
    "# Cross-validation scores\n",
    "cv_log_reg = cross_val_score(grid_log_reg.best_estimator_, X_train, y_train.ravel(), cv=5, scoring='accuracy')\n",
    "cv_decision_tree = cross_val_score(grid_decision_tree.best_estimator_, X_train, y_train.ravel(), cv=5, scoring='accuracy')\n",
    "cv_random_forest = cross_val_score(grid_random_forest.best_estimator_, X_train, y_train.ravel(), cv=5, scoring='accuracy')\n",
    "cv_svm = cross_val_score(grid_svm.best_estimator_, X_train, y_train.ravel(), cv=5, scoring='accuracy')\n",
    "cv_knn = cross_val_score(grid_knn.best_estimator_, X_train, y_train.ravel(), cv=5, scoring='accuracy')\n",
    "\n",
    "# Print cross-validation scores\n",
    "print(\"Cross-validation scores for Logistic Regression:\", cv_log_reg)\n",
    "print(\"Cross-validation scores for Decision Tree:\", cv_decision_tree)\n",
    "print(\"Cross-validation scores for Random Forest:\", cv_random_forest)\n",
    "print(\"Cross-validation scores for SVM:\", cv_svm)\n",
    "print(\"Cross-validation scores for KNN:\", cv_knn)"
   ]
  },
  {
   "cell_type": "markdown",
   "id": "8bf59034-30de-4dfd-9f80-964a3e7affd1",
   "metadata": {},
   "source": [
    "# Select most relevant features using  Feature Importance"
   ]
  },
  {
   "cell_type": "code",
   "execution_count": null,
   "id": "c2e8ad63-735f-4c13-8350-ee509d0de5e3",
   "metadata": {},
   "outputs": [],
   "source": [
    "# Feature importance from Random Forest\n",
    "importances = grid_random_forest.best_estimator_.feature_importances_\n",
    "feature_names = X_train.columns\n",
    "feature_importance_df = pd.DataFrame({'Feature': feature_names, 'Importance': importances})\n",
    "feature_importance_df = feature_importance_df.sort_values(by='Importance', ascending=False)\n",
    "\n",
    "# Plot feature importance\n",
    "plt.figure(figsize=(12, 6))\n",
    "sns.barplot(x='Importance', y='Feature', data=feature_importance_df)\n",
    "plt.title('Feature Importance from Random Forest')\n",
    "plt.show()"
   ]
  }
 ],
 "metadata": {
  "kernelspec": {
   "display_name": "Python 3 (ipykernel)",
   "language": "python",
   "name": "python3"
  },
  "language_info": {
   "codemirror_mode": {
    "name": "ipython",
    "version": 3
   },
   "file_extension": ".py",
   "mimetype": "text/x-python",
   "name": "python",
   "nbconvert_exporter": "python",
   "pygments_lexer": "ipython3",
   "version": "3.10.14"
  }
 },
 "nbformat": 4,
 "nbformat_minor": 5
}
